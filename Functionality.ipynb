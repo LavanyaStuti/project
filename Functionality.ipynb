{
 "cells": [
  {
   "cell_type": "markdown",
   "id": "13626ca6",
   "metadata": {},
   "source": [
    "### Main functionality of k-cluster module"
   ]
  },
  {
   "cell_type": "code",
   "execution_count": 1,
   "id": "6ec59a56",
   "metadata": {},
   "outputs": [],
   "source": [
    "import kcluster\n",
    "import numpy as np\n",
    "from scipy.spatial.distance import pdist, squareform"
   ]
  },
  {
   "cell_type": "markdown",
   "id": "2a68341d",
   "metadata": {},
   "source": [
    "#### Test case: 100 random points in the unit square"
   ]
  },
  {
   "cell_type": "code",
   "execution_count": 2,
   "id": "2b3281ea",
   "metadata": {},
   "outputs": [],
   "source": [
    "N = 100\n",
    "d = 2\n",
    "P = np.random.random((N,d))"
   ]
  },
  {
   "cell_type": "markdown",
   "id": "0e04e7dd",
   "metadata": {},
   "source": [
    "#### For inputing a distance matrix\n",
    "\n",
    "##### returning only persistence diagram"
   ]
  },
  {
   "cell_type": "code",
   "execution_count": 3,
   "id": "92f8f1fa",
   "metadata": {},
   "outputs": [
    {
     "name": "stdout",
     "output_type": "stream",
     "text": [
      "[[0.05750362 0.05904843]\n",
      " [0.04345583 0.07449347]\n",
      " [0.07329119 0.08410519]\n",
      " [0.09147484 0.09640639]\n",
      " [0.06837715 0.09902108]\n",
      " [0.09989753 0.10942252]\n",
      " [0.08790118 0.11001198]\n",
      " [0.04330672 0.11004628]\n",
      " [0.04279317 0.11292701]\n",
      " [0.0438699  0.12527136]\n",
      " [0.09664967 0.14024834]\n",
      " [0.04000611        inf]]\n"
     ]
    }
   ],
   "source": [
    "# create distance matrix\n",
    "D = squareform(pdist(P))\n",
    "\n",
    "# return persistence diagram for k=4\n",
    "PD = kcluster.persistenceDiagram(D,k=4)\n",
    "print(PD)"
   ]
  },
  {
   "cell_type": "markdown",
   "id": "598b3427",
   "metadata": {},
   "source": [
    "##### returning persistence diagram and filtration"
   ]
  },
  {
   "cell_type": "code",
   "execution_count": 4,
   "id": "9d5b3635",
   "metadata": {},
   "outputs": [
    {
     "name": "stdout",
     "output_type": "stream",
     "text": [
      "[[0.05750362 0.05904843]\n",
      " [0.04345583 0.07449347]\n",
      " [0.07329119 0.08410519]\n",
      " [0.09147484 0.09640639]\n",
      " [0.06837715 0.09902108]\n",
      " [0.09989753 0.10942252]\n",
      " [0.08790118 0.11001198]\n",
      " [0.04330672 0.11004628]\n",
      " [0.04279317 0.11292701]\n",
      " [0.0438699  0.12527136]\n",
      " [0.09664967 0.14024834]\n",
      " [0.04000611        inf]]\n"
     ]
    }
   ],
   "source": [
    "# F is the function on the vertices, E is the new MST with \n",
    "# correct edge weights\n",
    "PD,F,E = kcluster.persistenceDiagram(D,k=4,return_filtration=True)\n",
    "print(PD)"
   ]
  },
  {
   "cell_type": "markdown",
   "id": "bce4956c",
   "metadata": {},
   "source": [
    "##### For getting clusters"
   ]
  },
  {
   "cell_type": "code",
   "execution_count": 5,
   "id": "85ea75bf",
   "metadata": {},
   "outputs": [
    {
     "name": "stdout",
     "output_type": "stream",
     "text": [
      "alpha multiplicative: 1.582667068167511\n",
      "alpha additive: 0.03731815571911512\n"
     ]
    }
   ],
   "source": [
    "# We first need a threshold\n",
    "## say we want 5 clusters with multiplicative weights\n",
    "## death/birth\n",
    "alpha = kcluster.getThreshold(PD,5) \n",
    "print(f\"alpha multiplicative: {alpha}\")\n",
    "\n",
    "## say we want 5 clusters with additive weights\n",
    "## death - birth\n",
    "alpha_st = kcluster.getThreshold(PD,5,multiplicative=False) \n",
    "print(f\"alpha additive: {alpha_st}\")\n"
   ]
  },
  {
   "cell_type": "code",
   "execution_count": 6,
   "id": "4756798a",
   "metadata": {},
   "outputs": [
    {
     "name": "stdout",
     "output_type": "stream",
     "text": [
      "number of clusters: 5\n",
      "[0, 0, 4, 1, 0, 0, 0, 1, 3, 1, 0, 1, 1, 0, 1, 1, 1, 0, 2, 1, 0, 0, 1, 0, 1, 3, 2, 4, 0, 1, 1, 2, 1, 1, 0, 3, 1, 0, 1, 1, 0, 1, 4, 1, 1, 1, 4, 0, 2, 0, 0, 0, 1, 1, 4, 3, 1, 0, 4, 2, 1, 1, 1, 0, 1, 0, 1, 1, 4, 3, 2, 1, 4, 1, 2, 1, 0, 0, 0, 0, 4, 1, 1, 4, 0, 1, 1, 4, 0, 1, 3, 1, 3, 0, 1, 1, 1, 0, 3, 1]\n"
     ]
    }
   ],
   "source": [
    "# getting clusters\n",
    "clstrs_multiplicative, clstr_list = kcluster.getClusters(F,E,alpha)\n",
    "print(f\"number of clusters: {len(clstr_list)}\")\n",
    "\n",
    "# cluster list is just a lookup table for the cluster representatives to 0..n-1\n",
    "# where n is the number of clusters - if you want an ordered cluster list for \n",
    "# testing it can be useful to run \n",
    "clstrs_ordered = [clstr_list[i] for i in clstrs_multiplicative]\n",
    "print(clstrs_ordered)"
   ]
  },
  {
   "cell_type": "code",
   "execution_count": 7,
   "id": "f3e5ec18",
   "metadata": {},
   "outputs": [
    {
     "name": "stdout",
     "output_type": "stream",
     "text": [
      "number of clusters: 5\n",
      "[ 0. 27. 27.  7. 27. 27. 27.  7. 25.  7. 27.  7.  7. 27.  7.  7.  7. 27.\n",
      " 18.  7. 27. 27.  7. 27.  7. 25. 18. 27. 27.  7.  7. 18.  7.  7. 27. 25.\n",
      "  7. 27.  7.  7. 27.  7. 27.  7.  7.  7. 27.  0. 18. 27.  0. 27.  7.  7.\n",
      " 27. 25.  7. 27. 27. 18.  7.  7.  7. 27.  7. 27.  7.  7. 27. 25. 18.  7.\n",
      " 27.  7. 18.  7.  0. 27. 27. 27. 27.  7.  7. 27. 27.  7.  7. 27. 27.  7.\n",
      " 25.  7. 25. 27.  7.  7.  7. 27. 25.  7.]\n"
     ]
    }
   ],
   "source": [
    "# getting clusters with additive threshold\n",
    "clstrs_additive, clstr_list_a = kcluster.getClusters(F,E,alpha_st,multiplicative=False)\n",
    "print(f\"number of clusters: {len(clstr_list_a)}\")\n",
    "\n",
    "# cluster list is just a lookup table for the cluster representatives to 0..n-1\n",
    "# where n is the number of clusters - if you want an ordered cluster list for \n",
    "# testing it can be useful to run \n",
    "clstrs_ordered_a = [clstr_list_a[i] for i in clstrs_additive]\n",
    "print(clstrs_additive)"
   ]
  },
  {
   "cell_type": "markdown",
   "id": "e649cf47",
   "metadata": {},
   "source": [
    "#### You can also put in  a graph directly \n",
    "\n",
    "##### First we create a graph"
   ]
  },
  {
   "cell_type": "code",
   "execution_count": 8,
   "id": "df12b8f4",
   "metadata": {},
   "outputs": [],
   "source": [
    "from scipy.spatial import Delaunay\n",
    "# this makes a Delaunay graph\n",
    "def createGraph(P):\n",
    "    dlnay = Delaunay(P)\n",
    "    tri = dlnay.simplices\n",
    "    edges = np.vstack((tri[:,[0,1]],tri[:,[1,2]],tri[:,[0,2]]))\n",
    "    edges.sort(axis=1)\n",
    "    edges = np.unique(edges, axis=0)\n",
    "\n",
    "    E = []\n",
    "   \n",
    "    for i in range(edges.shape[0]):\n",
    "        dist = np.sqrt(np.sum((P[edges[i,0],:] - P[edges[i,1],:])**2))\n",
    "        E.append((edges[i,0],edges[i,1], dist))\n",
    "    return E"
   ]
  },
  {
   "cell_type": "code",
   "execution_count": 9,
   "id": "c13986fc",
   "metadata": {},
   "outputs": [
    {
     "name": "stdout",
     "output_type": "stream",
     "text": [
      "[[0.05750362 0.05904843]\n",
      " [0.04345583 0.07449347]\n",
      " [0.07329119 0.08410519]\n",
      " [0.09147484 0.09640639]\n",
      " [0.06837715 0.09902108]\n",
      " [0.09989753 0.10942252]\n",
      " [0.08790118 0.11001198]\n",
      " [0.04330672 0.11004628]\n",
      " [0.04279317 0.11292701]\n",
      " [0.0438699  0.12527136]\n",
      " [0.09664967 0.14024834]\n",
      " [0.04000611        inf]]\n"
     ]
    }
   ],
   "source": [
    "# create graph\n",
    "G = createGraph(P)\n",
    "\n",
    "# given a list of tuples (int,int, float), we can compute the MST\n",
    "E = kcluster.computeMST(G)\n",
    "\n",
    "# and compute the persistence diagram\n",
    "PD_Graph = kcluster.persistenceDiagramGraph(E,4)\n",
    "print(PD_Graph)"
   ]
  },
  {
   "cell_type": "code",
   "execution_count": 12,
   "id": "9c16e2a0",
   "metadata": {},
   "outputs": [
    {
     "name": "stdout",
     "output_type": "stream",
     "text": [
      "alpha multiplicative: 2.589996205942634\n",
      "{25.0: 0, 18.0: 1, 7.0: 2}\n"
     ]
    }
   ],
   "source": [
    "# the functionality is the same as for the distance matrix\n",
    "PD_Graph,F,E_new = kcluster.persistenceDiagramGraph(E,4,return_filtration=True)\n",
    "\n",
    "alpha = kcluster.getThreshold(PD,3) \n",
    "print(f\"alpha multiplicative: {alpha}\")\n",
    "\n",
    "# the function is getClustersGraph \n",
    "clstrs_graph, clstr_list = kcluster.getClustersGraph(F,E_new,alpha)\n",
    "print(clstr_list)"
   ]
  }
 ],
 "metadata": {
  "kernelspec": {
   "display_name": "Python [conda env:tda]",
   "language": "python",
   "name": "conda-env-tda-py"
  },
  "language_info": {
   "codemirror_mode": {
    "name": "ipython",
    "version": 3
   },
   "file_extension": ".py",
   "mimetype": "text/x-python",
   "name": "python",
   "nbconvert_exporter": "python",
   "pygments_lexer": "ipython3",
   "version": "3.11.5"
  }
 },
 "nbformat": 4,
 "nbformat_minor": 5
}
